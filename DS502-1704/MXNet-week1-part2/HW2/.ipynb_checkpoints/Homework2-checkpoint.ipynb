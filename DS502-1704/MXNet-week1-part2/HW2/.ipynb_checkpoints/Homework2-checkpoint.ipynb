{
 "cells": [
  {
   "cell_type": "code",
   "execution_count": 4,
   "metadata": {},
   "outputs": [],
   "source": [
    "import mxnet as mx \n",
    "from importlib import import_module\n",
    "import cv2\n",
    "import matplotlib.pyplot as plt \n",
    "import numpy as np \n",
    "from __future__ import print_function"
   ]
  },
  {
   "cell_type": "code",
   "execution_count": 5,
   "metadata": {},
   "outputs": [
    {
     "ename": "SyntaxError",
     "evalue": "Missing parentheses in call to 'print' (<ipython-input-5-7eb2ea65e6c2>, line 68)",
     "output_type": "error",
     "traceback": [
      "\u001b[0;36m  File \u001b[0;32m\"<ipython-input-5-7eb2ea65e6c2>\"\u001b[0;36m, line \u001b[0;32m68\u001b[0m\n\u001b[0;31m    print each\u001b[0m\n\u001b[0m             ^\u001b[0m\n\u001b[0;31mSyntaxError\u001b[0m\u001b[0;31m:\u001b[0m Missing parentheses in call to 'print'\n"
     ]
    }
   ],
   "source": [
    "# 1. data reading\n",
    "# labels in order: \n",
    "\"\"\"\n",
    "0 airplane\n",
    "1 automobile\n",
    "2 bird\n",
    "3 cat\n",
    "4 deer\n",
    "5 dog\n",
    "6 frog\n",
    "7 horse\n",
    "8 ship\n",
    "9 truck\n",
    "\"\"\"\n",
    "\n",
    "def get_cifar10():\n",
    "    # TODO fill all the blanks \n",
    "    # Hint\n",
    "    # rgb mean default: '123.68,116.779,103.939',\n",
    "    # pad size: whatever you think is valid, pad to 32 is good \n",
    "    # image shape:  the image shape feed into the network, e.g. (3,224,224)')\n",
    "    # num-classes: the number of classes\n",
    "    # num-examples:  the number of training examples, 50000 :)\n",
    "    # data-nthreads: default=4,number of threads for data decoding, how many cpus do you have\n",
    "    # dtype: default is float32, can be data type: float32 or float16')\n",
    "    train = mx.io.ImageRecordIter(\n",
    "            path_imgrec         = './cifar10_train.rec',\n",
    "            label_width         = 1,\n",
    "            mean_r              = 123.68,\n",
    "            mean_g              = 116.779,\n",
    "            mean_b              = 103.939,\n",
    "            data_name           = 'data',\n",
    "            label_name          = 'softmax_label',\n",
    "            data_shape          = (3,28,28),\n",
    "            batch_size          = 128,\n",
    "            pad                 = 2,\n",
    "            fill_value          = 0,\n",
    "            preprocess_threads  = 4,\n",
    "            shuffle             = True)\n",
    "    val = mx.io.ImageRecordIter(\n",
    "            path_imgrec         = './cifar10_val.rec',\n",
    "            label_width         = 1,\n",
    "            mean_r              = 123.68,\n",
    "            mean_g              = 116.779,\n",
    "            mean_b              = 103.939,\n",
    "            data_name           = 'data',\n",
    "            label_name          = 'softmax_label',\n",
    "            data_shape          = (3,28,28),\n",
    "            batch_size          = 128,\n",
    "            pad                 = 2,\n",
    "            fill_value          = 0,\n",
    "            preprocess_threads  = 4,\n",
    "            shuffle             = 0)\n",
    "    return train, val\n",
    "\n",
    "train, val = get_cifar10()\n",
    "# TODO write the script to look what is inside train and val\n",
    "# Check the image size, and label \n",
    "# Display the image \n",
    "# Question? check MXNET_course/mxnet-week3/cifar10/step_by_step_debug.ipynb\n",
    "print (train, val)\n",
    "print (train.provide_data[0].shape)\n",
    "i = 0\n",
    "for each in train:\n",
    "    i+=1\n",
    "    if i>5:\n",
    "        break\n",
    "    print each\n",
    "batch_numpy = each.data[0].asnumpy()\n",
    "label_numpy = each.label[0].asnumpy()\n",
    "print (type(batch_numpy))\n",
    "print (type(label_numpy))\n",
    "randidx = np.random.randint(0,128)\n",
    "img = batch_numpy[randidx]\n",
    "img = np.squeeze(img).sum(axis=0)\n",
    "#plt.imshow(img, cmap='gray')\n",
    "plt.imshow(img)\n",
    "plt.show()"
   ]
  },
  {
   "cell_type": "code",
   "execution_count": null,
   "metadata": {
    "scrolled": false
   },
   "outputs": [],
   "source": [
    "# 2 model getting \n",
    "# TODO read through resnet.py file for understanding\n",
    "def get_resnet():\n",
    "    net = import_module('resnet')\n",
    "    sym = net.get_symbol(10,20,\"3,28,28\")\n",
    "    return sym \n",
    "sym = get_resnet()\n",
    "\n",
    "# TODO \n",
    "# 1. Plot and visualize the network. Put your comments about its architecture (why bottlenet)\n",
    "# 2. List all weight and output (Question? check MXNET_course/mxnet-week3/cifar10/step_by_step_debug.ipynb)\n",
    "arg_name = sym.list_arguments()\n",
    "out_name = sym.list_outputs()\n",
    "print (arg_name)\n",
    "print (out_name)\n",
    "mx.viz.plot_network(sym)\n",
    "# Hint: check mx.viz.plot"
   ]
  },
  {
   "cell_type": "code",
   "execution_count": null,
   "metadata": {},
   "outputs": [],
   "source": [
    "img1 = cv2.imread(\"dog.jpg\")\n",
    "print(img1.shape)\n",
    "img1 = cv2.resize(img1,(28,28))# you need to pad it if you do padding for you nework\n",
    "plt.imshow(img1)\n",
    "plt.show()\n",
    "print type(img1)"
   ]
  },
  {
   "cell_type": "code",
   "execution_count": 20,
   "metadata": {
    "scrolled": false
   },
   "outputs": [
    {
     "data": {
      "image/png": "[encoded data removed]",
      "text/plain": [
       "<matplotlib.figure.Figure at 0x11185f1d0>"
      ]
     },
     "metadata": {},
     "output_type": "display_data"
    },
    {
     "name": "stdout",
     "output_type": "stream",
     "text": [
      "<type 'numpy.ndarray'>\n",
      "(1, 3, 28, 28)\n"
     ]
    },
    {
     "data": {
      "image/png": "[encoded data removed]",
      "text/plain": [
       "<matplotlib.figure.Figure at 0x1117ef650>"
      ]
     },
     "metadata": {},
     "output_type": "display_data"
    },
    {
     "name": "stdout",
     "output_type": "stream",
     "text": [
      "<type 'numpy.ndarray'>\n",
      "(1, 3, 28, 28)\n",
      "The very small training dataset contain:  (2, 3, 28, 28)\n",
      "small dataset is:  <class 'mxnet.io.NDArrayIter'>\n",
      "DataBatch: data shapes: [(1L, 3L, 28L, 28L)] label shapes: [(1L,)]\n",
      "DataBatch: data shapes: [(1L, 3L, 28L, 28L)] label shapes: [(1L,)]\n",
      "[[  1.50492964e-02   3.53395648e-04   5.54934107e-02   1.52861133e-01\n",
      "    7.71528006e-01   2.48587294e-03   7.15579139e-04   1.48570018e-06\n",
      "    1.46934052e-03   4.25348626e-05]\n",
      " [  5.68638439e-04   5.20452829e-07   1.96406394e-02   6.51760027e-02\n",
      "    9.14597511e-01   7.16678960e-06   3.02287413e-06   3.89515547e-12\n",
      "    6.41957740e-06   3.63600483e-09]]\n"
     ]
    }
   ],
   "source": [
    "# 3 sanity check random image inference\n",
    "img1 = cv2.imread(\"dog.jpg\")\n",
    "img1 = cv2.resize(img1,(28,28))# you need to pad it if you do padding for you nework\n",
    "plt.imshow(img1)\n",
    "plt.show()\n",
    "print type(img1)\n",
    "img1 = img1.transpose((2,0,1)).reshape((1,3,28,28))\n",
    "print img1.shape\n",
    "\n",
    "img2 = cv2.imread(\"cat.jpg\")\n",
    "img2 = cv2.resize(img2,(28,28))# you need to pad it if you do padding for you nework\n",
    "plt.imshow(img2)\n",
    "plt.show()\n",
    "print type(img2)\n",
    "img2 = img2.transpose((2,0,1)).reshape((1,3,28,28))\n",
    "print img2.shape\n",
    "\n",
    "img = np.vstack([img1,img2])\n",
    "print \"The very small training dataset contain: \", img.shape\n",
    "\n",
    "# TODO: figure out how to convert numpy array to mx.nd.array\n",
    "img_mxnd = mx.nd.array(img,ctx=mx.cpu()) \n",
    "label_mxnd = mx.nd.array([5,3],ctx=mx.cpu()) # 6 is frog, give 6 as label\n",
    "img_itr = mx.io.NDArrayIter(data=img_mxnd, data_name='data', \n",
    "                            label_name='softmax_label', label=label_mxnd, \n",
    "                            batch_size=1) # ??? Hint the name should \"data\" and softmax_label\n",
    "print \"small dataset is: \", type(img_itr)\n",
    "for each in img_itr:\n",
    "    print each\n",
    "\n",
    "# TODO bind the random img to network \n",
    "# question? check mxnet-week3/cifar10/train_cifar10.py\n",
    "mod = mx.mod.Module(symbol=sym, context=mx.cpu(),data_names=['data'],\n",
    "                        label_names=['softmax_label']) \n",
    "mod.bind(img_itr.provide_data,img_itr.provide_label)\n",
    "mod.init_params(mx.init.Xavier(magnitude=2.0)) \n",
    "\n",
    "# run forward perdiction \n",
    "# TODO fill the mod.predict \n",
    "# check mod.predict\n",
    "out = mod.predict(img_itr)\n",
    "print out.asnumpy()"
   ]
  },
  {
   "cell_type": "code",
   "execution_count": 25,
   "metadata": {},
   "outputs": [
    {
     "name": "stdout",
     "output_type": "stream",
     "text": [
      "[4 4]\n"
     ]
    }
   ],
   "source": [
    "print np.argmax(out.asnumpy(),axis=1)"
   ]
  },
  {
   "cell_type": "code",
   "execution_count": 26,
   "metadata": {},
   "outputs": [
    {
     "name": "stderr",
     "output_type": "stream",
     "text": [
      "WARNING:root:optimizer already initialized, ignoring...\n"
     ]
    },
    {
     "name": "stdout",
     "output_type": "stream",
     "text": [
      "Epoch 0, Train ('accuracy', 1.0)\n",
      "Epoch 1, Train ('accuracy', 1.0)\n",
      "Epoch 2, Train ('accuracy', 1.0)\n",
      "Epoch 3, Train ('accuracy', 1.0)\n",
      "Epoch 4, Train ('accuracy', 1.0)\n"
     ]
    }
   ],
   "source": [
    "# 4 overfit small dataset \n",
    "# TODO fill all ???\n",
    "mod.init_optimizer('sgd',optimizer_params=(('learning_rate', 0.1), )) \n",
    "# run forward perdiction\n",
    "metric = mx.metric.create('acc')\n",
    "\n",
    "for epoch in range(5):\n",
    "    img_itr.reset()\n",
    "    metric.reset()\n",
    "    for batch in img_itr:\n",
    "        mod.forward(batch, is_train=True)\n",
    "        mod.update_metric(metric, batch.label)\n",
    "        mod.backward()\n",
    "        mod.update()\n",
    "    print ('Epoch {}, Train {}'.format(epoch, metric.get()))\n",
    "    # You should get 100% accuacy on these two images\n"
   ]
  },
  {
   "cell_type": "code",
   "execution_count": null,
   "metadata": {},
   "outputs": [],
   "source": [
    "#5 (optional) train cifar10 on resnet(~epoch) if you have GPU. Build the training script from week2\n",
    "mod_cifar = mx.mod.Module(context=[mx.cpu()],\n",
    "                          symbol=sym,\n",
    "                          label_names=['softmax_label'],\n",
    "                         data_names=['data']\n",
    "                         )\n",
    "train.reset()\n",
    "val.reset()\n",
    "mod_cifar.fit(train_data=train,\n",
    "              eval_data=val,\n",
    "              num_epoch=10,\n",
    "              optimizer='sgd', \n",
    "              optimizer_params={'learning_rate':0.01,'momentum':0.9}, \n",
    "              epoch_end_callback=mx.callback.do_checkpoint('resnet_cifar_10'),\n",
    "              initializer=mx.init.Xavier(rnd_type='gaussian', factor_type='in',magnitude=2),\n",
    "              batch_end_callback=[mx.callback.Speedometer(128, 1)], \n",
    "              eval_metric=['acc','ce'])"
   ]
  },
  {
   "cell_type": "code",
   "execution_count": null,
   "metadata": {
    "collapsed": true
   },
   "outputs": [],
   "source": [
    "# 6 (optional) Wild test on your model "
   ]
  },
  {
   "cell_type": "code",
   "execution_count": null,
   "metadata": {
    "collapsed": true
   },
   "outputs": [],
   "source": []
  }
 ],
 "metadata": {
  "kernelspec": {
   "display_name": "Python 2",
   "language": "python",
   "name": "python2"
  },
  "language_info": {
   "codemirror_mode": {
    "name": "ipython",
    "version": 3
   },
   "file_extension": ".py",
   "mimetype": "text/x-python",
   "name": "python",
   "nbconvert_exporter": "python",
   "pygments_lexer": "ipython3",
   "version": "3.5.2"
  }
 },
 "nbformat": 4,
 "nbformat_minor": 2
}
