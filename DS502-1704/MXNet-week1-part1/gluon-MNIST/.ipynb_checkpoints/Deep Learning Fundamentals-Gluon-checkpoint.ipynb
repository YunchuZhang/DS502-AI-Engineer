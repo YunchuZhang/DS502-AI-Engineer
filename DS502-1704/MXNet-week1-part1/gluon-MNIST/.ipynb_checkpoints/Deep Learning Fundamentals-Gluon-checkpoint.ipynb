{
 "cells": [
  {
   "cell_type": "markdown",
   "metadata": {},
   "source": [
    "# Basic of Machine Learning\n",
    "\n",
    "    1.Data:\n",
    "        Image, Text, Audio, Video, Structured data\n",
    "    2.A model of how to transform the data\n",
    "    3.A loss function to measure how well we’re doing\n",
    "    4.An algorithm to tweak the model parameters such that the loss function is minimized"
   ]
  },
  {
   "cell_type": "markdown",
   "metadata": {},
   "source": [
    "### ND Array in MXNet"
   ]
  },
  {
   "cell_type": "code",
   "execution_count": 1,
   "metadata": {
    "collapsed": true
   },
   "outputs": [],
   "source": [
    "import mxnet as mx \n",
    "from mxnet import nd\n",
    "import numpy as np\n",
    "mx.random.seed(1)"
   ]
  },
  {
   "cell_type": "code",
   "execution_count": 2,
   "metadata": {},
   "outputs": [
    {
     "name": "stdout",
     "output_type": "stream",
     "text": [
      "\n",
      "[[ -5.40419733e+35   4.57594014e-41   2.61536179e-33   1.40129846e-45]\n",
      " [  2.61511640e-33   1.40129846e-45   1.21392126e-33   1.40129846e-45]\n",
      " [  0.00000000e+00   0.00000000e+00   0.00000000e+00   0.00000000e+00]]\n",
      "<NDArray 3x4 @cpu(0)>\n"
     ]
    }
   ],
   "source": [
    "x = nd.empty((3, 4))\n",
    "print(x)"
   ]
  },
  {
   "cell_type": "code",
   "execution_count": 3,
   "metadata": {},
   "outputs": [
    {
     "data": {
      "text/plain": [
       "\n",
       "[[ 1.  1.  1.  1.]\n",
       " [ 1.  1.  1.  1.]\n",
       " [ 1.  1.  1.  1.]]\n",
       "<NDArray 3x4 @cpu(0)>"
      ]
     },
     "execution_count": 3,
     "metadata": {},
     "output_type": "execute_result"
    }
   ],
   "source": [
    "x = nd.ones((3, 4))\n",
    "x"
   ]
  },
  {
   "cell_type": "code",
   "execution_count": 4,
   "metadata": {
    "scrolled": false
   },
   "outputs": [
    {
     "name": "stdout",
     "output_type": "stream",
     "text": [
      "\n",
      "[[ 0.03629481 -0.49024421 -0.95017916  0.03751944]\n",
      " [-0.72984636 -2.04010558  1.482131    1.04082799]\n",
      " [-0.45256865  0.31160426 -0.83673781 -0.78830057]]\n",
      "<NDArray 3x4 @cpu(0)>\n",
      "(3L, 4L)\n",
      "12\n"
     ]
    }
   ],
   "source": [
    "y = nd.random_normal(0, 1, shape=(3, 4))\n",
    "print y\n",
    "print y.shape\n",
    "print y.size"
   ]
  },
  {
   "cell_type": "code",
   "execution_count": 5,
   "metadata": {},
   "outputs": [
    {
     "data": {
      "text/plain": [
       "\n",
       "[[ 0.03629481 -0.49024421 -0.95017916  0.03751944]\n",
       " [-0.72984636 -2.04010558  1.482131    1.04082799]\n",
       " [-0.45256865  0.31160426 -0.83673781 -0.78830057]]\n",
       "<NDArray 3x4 @cpu(0)>"
      ]
     },
     "execution_count": 5,
     "metadata": {},
     "output_type": "execute_result"
    }
   ],
   "source": [
    "x * y"
   ]
  },
  {
   "cell_type": "code",
   "execution_count": 6,
   "metadata": {},
   "outputs": [
    {
     "data": {
      "text/plain": [
       "\n",
       "[[ 1.03696156  0.61247683  0.38667175  1.03823221]\n",
       " [ 0.48198304  0.13001499  4.40231705  2.83156061]\n",
       " [ 0.63599241  1.36561418  0.43312114  0.45461673]]\n",
       "<NDArray 3x4 @cpu(0)>"
      ]
     },
     "execution_count": 6,
     "metadata": {},
     "output_type": "execute_result"
    }
   ],
   "source": [
    "nd.exp(y)"
   ]
  },
  {
   "cell_type": "code",
   "execution_count": 7,
   "metadata": {},
   "outputs": [
    {
     "data": {
      "text/plain": [
       "\n",
       "[[-1.3666091  -0.24699283 -1.76600277]\n",
       " [-1.3666091  -0.24699283 -1.76600277]\n",
       " [-1.3666091  -0.24699283 -1.76600277]]\n",
       "<NDArray 3x3 @cpu(0)>"
      ]
     },
     "execution_count": 7,
     "metadata": {},
     "output_type": "execute_result"
    }
   ],
   "source": [
    "nd.dot(x, y.T)"
   ]
  },
  {
   "cell_type": "code",
   "execution_count": 8,
   "metadata": {},
   "outputs": [
    {
     "name": "stdout",
     "output_type": "stream",
     "text": [
      "The current mem host y is 4546129040\n",
      "The current mem host after add + assigning y is 4546129040\n",
      "The current mem host after add y is 4488497104\n"
     ]
    }
   ],
   "source": [
    "# Memory Host \n",
    "print \"The current mem host y is {}\".format(id(y))\n",
    "y[:] = x + y\n",
    "print \"The current mem host after add + assigning y is {}\".format(id(y))\n",
    "y = x + y\n",
    "print \"The current mem host after add y is {}\".format(id(y))"
   ]
  },
  {
   "cell_type": "code",
   "execution_count": 9,
   "metadata": {},
   "outputs": [
    {
     "name": "stdout",
     "output_type": "stream",
     "text": [
      "\n",
      "[[ 2.03629494  1.50975585  1.0498209   2.03751945]\n",
      " [ 1.27015364 -0.04010558  3.482131    3.04082799]\n",
      " [ 1.54743135  2.31160426  1.16326213  1.21169949]]\n",
      "<NDArray 3x4 @cpu(0)>\n",
      "\n",
      "[[ 1.27015364 -0.04010558  3.482131    3.04082799]\n",
      " [ 1.54743135  2.31160426  1.16326213  1.21169949]]\n",
      "<NDArray 2x4 @cpu(0)>\n",
      "\n",
      "[[-0.04010558]\n",
      " [ 2.31160426]]\n",
      "<NDArray 2x1 @cpu(0)>\n"
     ]
    }
   ],
   "source": [
    "print y\n",
    "print y[1:3]\n",
    "print y[1:3,1:2]"
   ]
  },
  {
   "cell_type": "code",
   "execution_count": 10,
   "metadata": {},
   "outputs": [
    {
     "name": "stdout",
     "output_type": "stream",
     "text": [
      "\n",
      "[[ 1.  1.  1.  1.]\n",
      " [ 1.  1.  1.  1.]\n",
      " [ 1.  1.  1.  1.]]\n",
      "<NDArray 3x4 @cpu(0)>\n",
      "\n",
      "[[ 1.  1.  1.  1.]\n",
      " [ 1.  1.  9.  1.]\n",
      " [ 1.  1.  1.  1.]]\n",
      "<NDArray 3x4 @cpu(0)>\n",
      "\n",
      "[[ 1.  1.  1.  1.]\n",
      " [ 1.  5.  5.  1.]\n",
      " [ 1.  1.  1.  1.]]\n",
      "<NDArray 3x4 @cpu(0)>\n"
     ]
    }
   ],
   "source": [
    "print x\n",
    "x[1,2] = 9\n",
    "print x\n",
    "x[1:2,1:3] = 5\n",
    "print x"
   ]
  },
  {
   "cell_type": "markdown",
   "metadata": {},
   "source": [
    "#### Brodcasting"
   ]
  },
  {
   "cell_type": "code",
   "execution_count": 11,
   "metadata": {},
   "outputs": [
    {
     "name": "stdout",
     "output_type": "stream",
     "text": [
      "('x = ', \n",
      "[[ 1.  1.  1.]\n",
      " [ 1.  1.  1.]\n",
      " [ 1.  1.  1.]]\n",
      "<NDArray 3x3 @cpu(0)>)\n",
      "('y = ', \n",
      "[ 0.  1.  2.]\n",
      "<NDArray 3 @cpu(0)>)\n",
      "('x + y = ', \n",
      "[[ 1.  2.  3.]\n",
      " [ 1.  2.  3.]\n",
      " [ 1.  2.  3.]]\n",
      "<NDArray 3x3 @cpu(0)>)\n"
     ]
    }
   ],
   "source": [
    "x = nd.ones(shape=(3,3))\n",
    "print('x = ', x)\n",
    "y = nd.arange(3)\n",
    "print('y = ', y)\n",
    "print('x + y = ', x + y)"
   ]
  },
  {
   "cell_type": "markdown",
   "metadata": {},
   "source": [
    "#### nd array <-> Numpy "
   ]
  },
  {
   "cell_type": "code",
   "execution_count": 12,
   "metadata": {},
   "outputs": [
    {
     "name": "stdout",
     "output_type": "stream",
     "text": [
      "The type of a is <type 'numpy.ndarray'>\n",
      "The type of a is <class 'mxnet.ndarray.ndarray.NDArray'>\n"
     ]
    }
   ],
   "source": [
    "a = x.asnumpy()\n",
    "print \"The type of a is {}\".format(type(a))\n",
    "y = nd.array(a)\n",
    "print \"The type of a is {}\".format(type(y))"
   ]
  },
  {
   "cell_type": "markdown",
   "metadata": {},
   "source": [
    "### Deal data with gpu"
   ]
  },
  {
   "cell_type": "code",
   "execution_count": 13,
   "metadata": {
    "collapsed": true,
    "scrolled": true
   },
   "outputs": [],
   "source": [
    "# z = nd.ones(shape=(3,3), ctx=mx.gpu(0))\n",
    "# z"
   ]
  },
  {
   "cell_type": "code",
   "execution_count": 14,
   "metadata": {
    "collapsed": true
   },
   "outputs": [],
   "source": [
    "# x_gpu = x.copyto(mx.gpu(0))\n",
    "# print(x_gpu)"
   ]
  },
  {
   "cell_type": "markdown",
   "metadata": {},
   "source": [
    "## Scala, Vector, Matrices, Tensors"
   ]
  },
  {
   "cell_type": "code",
   "execution_count": 15,
   "metadata": {},
   "outputs": [
    {
     "name": "stdout",
     "output_type": "stream",
     "text": [
      "x + y =  \n",
      "[ 5.]\n",
      "<NDArray 1 @cpu(0)>\n",
      "x * y =  \n",
      "[ 6.]\n",
      "<NDArray 1 @cpu(0)>\n",
      "x / y =  \n",
      "[ 1.5]\n",
      "<NDArray 1 @cpu(0)>\n",
      "x ** y =  \n",
      "[ 9.]\n",
      "<NDArray 1 @cpu(0)>\n"
     ]
    }
   ],
   "source": [
    "# scalars\n",
    "x = nd.array([3.0])\n",
    "y = nd.array([2.0])\n",
    "print 'x + y = ', x + y\n",
    "print 'x * y = ', x * y\n",
    "print 'x / y = ', x / y\n",
    "print 'x ** y = ', nd.power(x,y)"
   ]
  },
  {
   "cell_type": "code",
   "execution_count": 16,
   "metadata": {},
   "outputs": [
    {
     "data": {
      "text/plain": [
       "3.0"
      ]
     },
     "execution_count": 16,
     "metadata": {},
     "output_type": "execute_result"
    }
   ],
   "source": [
    "# convert it to python scala\n",
    "x.asscalar()"
   ]
  },
  {
   "cell_type": "code",
   "execution_count": 17,
   "metadata": {},
   "outputs": [
    {
     "name": "stdout",
     "output_type": "stream",
     "text": [
      "('u = ', \n",
      "[ 0.  1.  2.  3.]\n",
      "<NDArray 4 @cpu(0)>)\n",
      "\n",
      "[ 3.]\n",
      "<NDArray 1 @cpu(0)>\n",
      "4\n",
      "(4L,)\n",
      "\n",
      "[ 2.  4.  6.]\n",
      "<NDArray 3 @cpu(0)>\n",
      "\n",
      "[ 12.  24.  36.]\n",
      "<NDArray 3 @cpu(0)>\n"
     ]
    }
   ],
   "source": [
    "# Vector\n",
    "u = nd.arange(4)\n",
    "print('u = ', u)\n",
    "print u[3]\n",
    "print len(u)\n",
    "print u.shape\n",
    "\n",
    "a = 2\n",
    "x = nd.array([1,2,3])\n",
    "y = nd.array([10,20,30])\n",
    "print(a * x)\n",
    "print(a * x + y)"
   ]
  },
  {
   "cell_type": "code",
   "execution_count": 18,
   "metadata": {},
   "outputs": [
    {
     "name": "stdout",
     "output_type": "stream",
     "text": [
      "\n",
      "[[  0.   1.   2.   3.]\n",
      " [  4.   5.   6.   7.]\n",
      " [  8.   9.  10.  11.]\n",
      " [ 12.  13.  14.  15.]\n",
      " [ 16.  17.  18.  19.]]\n",
      "<NDArray 5x4 @cpu(0)>\n",
      "A[2, 3] =  \n",
      "[ 11.]\n",
      "<NDArray 1 @cpu(0)>\n",
      "('row 2', \n",
      "[  8.   9.  10.  11.]\n",
      "<NDArray 4 @cpu(0)>)\n",
      "('column 3', \n",
      "[  3.   7.  11.  15.  19.]\n",
      "<NDArray 5 @cpu(0)>)\n",
      "\n",
      "[[  0.   4.   8.  12.  16.]\n",
      " [  1.   5.   9.  13.  17.]\n",
      " [  2.   6.  10.  14.  18.]\n",
      " [  3.   7.  11.  15.  19.]]\n",
      "<NDArray 4x5 @cpu(0)>\n"
     ]
    }
   ],
   "source": [
    "# Matrices\n",
    "x = nd.arange(20)\n",
    "A = x.reshape((5, 4))\n",
    "print A\n",
    "print 'A[2, 3] = ', A[2, 3]\n",
    "\n",
    "print('row 2', A[2, :])\n",
    "print('column 3', A[:, 3])\n",
    "print A.T"
   ]
  },
  {
   "cell_type": "code",
   "execution_count": 19,
   "metadata": {},
   "outputs": [
    {
     "name": "stdout",
     "output_type": "stream",
     "text": [
      "X.shape = (2L, 3L, 4L)\n",
      "X = \n",
      "[[[  0.   1.   2.   3.]\n",
      "  [  4.   5.   6.   7.]\n",
      "  [  8.   9.  10.  11.]]\n",
      "\n",
      " [[ 12.  13.  14.  15.]\n",
      "  [ 16.  17.  18.  19.]\n",
      "  [ 20.  21.  22.  23.]]]\n",
      "<NDArray 2x3x4 @cpu(0)>\n"
     ]
    }
   ],
   "source": [
    "# Tensor\n",
    "X = nd.arange(24).reshape((2, 3, 4))\n",
    "print 'X.shape =', X.shape\n",
    "print 'X =', X"
   ]
  },
  {
   "cell_type": "code",
   "execution_count": 20,
   "metadata": {},
   "outputs": [
    {
     "name": "stdout",
     "output_type": "stream",
     "text": [
      "v = \n",
      "[ 2.  2.  2.  2.]\n",
      "<NDArray 4 @cpu(0)>\n",
      "u + v \n",
      "[  3.   4.   6.  10.]\n",
      "<NDArray 4 @cpu(0)>\n",
      "u - v \n",
      "[-1.  0.  2.  6.]\n",
      "<NDArray 4 @cpu(0)>\n",
      "u * v \n",
      "[  2.   4.   8.  16.]\n",
      "<NDArray 4 @cpu(0)>\n",
      "u / v \n",
      "[ 0.5  1.   2.   4. ]\n",
      "<NDArray 4 @cpu(0)>\n",
      "\n",
      "[ 15.]\n",
      "<NDArray 1 @cpu(0)>\n",
      "\n",
      "[ 3.75]\n",
      "<NDArray 1 @cpu(0)>\n",
      "\n",
      "[ 3.75]\n",
      "<NDArray 1 @cpu(0)>\n",
      "\n",
      "[ 30.]\n",
      "<NDArray 1 @cpu(0)>\n",
      "\n",
      "[ 30.]\n",
      "<NDArray 1 @cpu(0)>\n"
     ]
    }
   ],
   "source": [
    "u = nd.array([1, 2, 4, 8])\n",
    "v = nd.ones_like(u) * 2\n",
    "print 'v =', v\n",
    "print 'u + v', u + v\n",
    "print 'u - v', u - v\n",
    "print 'u * v', u * v\n",
    "print 'u / v', u / v\n",
    "print nd.sum(u)\n",
    "print nd.mean(u)\n",
    "print nd.sum(u) / u.size\n",
    "print nd.dot(u, v)\n",
    "print nd.sum(u * v)"
   ]
  },
  {
   "cell_type": "code",
   "execution_count": 21,
   "metadata": {},
   "outputs": [
    {
     "name": "stdout",
     "output_type": "stream",
     "text": [
      "\n",
      "[  34.   94.  154.  214.  274.]\n",
      "<NDArray 5 @cpu(0)>\n",
      "\n",
      "[[   14.    38.    62.    86.   110.]\n",
      " [   38.   126.   214.   302.   390.]\n",
      " [   62.   214.   366.   518.   670.]\n",
      " [   86.   302.   518.   734.   950.]\n",
      " [  110.   390.   670.   950.  1230.]]\n",
      "<NDArray 5x5 @cpu(0)>\n"
     ]
    }
   ],
   "source": [
    "# Matrices multiple Vector\n",
    "print nd.dot(A, u)\n",
    "print nd.dot(A, A.T)"
   ]
  },
  {
   "cell_type": "code",
   "execution_count": 22,
   "metadata": {},
   "outputs": [
    {
     "name": "stdout",
     "output_type": "stream",
     "text": [
      "\n",
      "[ 9.21954441]\n",
      "<NDArray 1 @cpu(0)>\n",
      "\n",
      "[ 9.21954441]\n",
      "<NDArray 1 @cpu(0)>\n",
      "\n",
      "[ 15.]\n",
      "<NDArray 1 @cpu(0)>\n"
     ]
    }
   ],
   "source": [
    "print nd.norm(u)\n",
    "print nd.sqrt(nd.sum(u**2))\n",
    "print nd.sum(nd.abs(u))"
   ]
  },
  {
   "cell_type": "markdown",
   "metadata": {},
   "source": [
    "### Todo\n",
    "    Additive axioms \n",
    "    Multiplicative axioms \n",
    "    Distributive axioms\n",
    "    "
   ]
  },
  {
   "cell_type": "code",
   "execution_count": null,
   "metadata": {
    "collapsed": true
   },
   "outputs": [],
   "source": []
  }
 ],
 "metadata": {
  "kernelspec": {
   "display_name": "Python 2",
   "language": "python",
   "name": "python2"
  },
  "language_info": {
   "codemirror_mode": {
    "name": "ipython",
    "version": 2
   },
   "file_extension": ".py",
   "mimetype": "text/x-python",
   "name": "python",
   "nbconvert_exporter": "python",
   "pygments_lexer": "ipython2",
   "version": "2.7.14"
  }
 },
 "nbformat": 4,
 "nbformat_minor": 2
}
